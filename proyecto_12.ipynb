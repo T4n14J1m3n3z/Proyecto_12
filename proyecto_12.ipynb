{
 "cells": [
  {
   "cell_type": "markdown",
   "metadata": {},
   "source": [
    "El servicio de venta de autos usados Rusty Bargain está desarrollando una aplicación para atraer nuevos clientes. Gracias a esa app, puedes averiguar rápidamente el valor de mercado de tu coche. Tienes acceso al historial: especificaciones técnicas, versiones de equipamiento y precios. Tienes que crear un modelo que determine el valor de mercado.\n",
    "A Rusty Bargain le interesa:\n",
    "- la calidad de la predicción;\n",
    "- la velocidad de la predicción;\n",
    "- el tiempo requerido para el entrenamiento"
   ]
  },
  {
   "cell_type": "markdown",
   "metadata": {},
   "source": [
    "## Preparación de datos"
   ]
  },
  {
   "cell_type": "code",
   "execution_count": 1,
   "metadata": {},
   "outputs": [],
   "source": [
    "import pandas as pd\n",
    "import numpy as np\n",
    "from sklearn.model_selection import train_test_split\n",
    "from sklearn.linear_model import LinearRegression\n",
    "from sklearn.metrics import mean_squared_error\n",
    "import matplotlib.pyplot as plt\n",
    "import lightgbm as lgb\n",
    "from catboost import CatBoostRegressor\n",
    "from xgboost import XGBRegressor"
   ]
  },
  {
   "cell_type": "code",
   "execution_count": 2,
   "metadata": {},
   "outputs": [],
   "source": [
    "cardata = pd.read_csv('/datasets/car_data.csv')"
   ]
  },
  {
   "cell_type": "markdown",
   "metadata": {},
   "source": [
    "<div class=\"alert alert-block alert-success\">\n",
    "<b>Comentario del revisor</b> <a class=\"tocSkip\"></a>\n",
    "    \n",
    "Buen trabajo con la importación de datos y de librerías.\n",
    "</div>"
   ]
  },
  {
   "cell_type": "code",
   "execution_count": 3,
   "metadata": {},
   "outputs": [
    {
     "name": "stdout",
     "output_type": "stream",
     "text": [
      "<class 'pandas.core.frame.DataFrame'>\n",
      "RangeIndex: 354369 entries, 0 to 354368\n",
      "Data columns (total 16 columns):\n",
      " #   Column             Non-Null Count   Dtype \n",
      "---  ------             --------------   ----- \n",
      " 0   DateCrawled        354369 non-null  object\n",
      " 1   Price              354369 non-null  int64 \n",
      " 2   VehicleType        316879 non-null  object\n",
      " 3   RegistrationYear   354369 non-null  int64 \n",
      " 4   Gearbox            334536 non-null  object\n",
      " 5   Power              354369 non-null  int64 \n",
      " 6   Model              334664 non-null  object\n",
      " 7   Mileage            354369 non-null  int64 \n",
      " 8   RegistrationMonth  354369 non-null  int64 \n",
      " 9   FuelType           321474 non-null  object\n",
      " 10  Brand              354369 non-null  object\n",
      " 11  NotRepaired        283215 non-null  object\n",
      " 12  DateCreated        354369 non-null  object\n",
      " 13  NumberOfPictures   354369 non-null  int64 \n",
      " 14  PostalCode         354369 non-null  int64 \n",
      " 15  LastSeen           354369 non-null  object\n",
      "dtypes: int64(7), object(9)\n",
      "memory usage: 43.3+ MB\n"
     ]
    }
   ],
   "source": [
    "cardata.info()"
   ]
  },
  {
   "cell_type": "markdown",
   "metadata": {},
   "source": [
    "En la información general podemos observar que hay datos faltantes en algunas columnas. A continuación se realizará un análisis del porcentaje de faltantes."
   ]
  },
  {
   "cell_type": "code",
   "execution_count": 4,
   "metadata": {},
   "outputs": [
    {
     "name": "stdout",
     "output_type": "stream",
     "text": [
      "Porcentaje de valores faltantes en cada columna:\n",
      "price                 0.000000\n",
      "vehicletype          10.579368\n",
      "registrationyear      0.000000\n",
      "gearbox               5.596709\n",
      "power                 0.000000\n",
      "model                 5.560588\n",
      "mileage               0.000000\n",
      "registrationmonth     0.000000\n",
      "fueltype              9.282697\n",
      "brand                 0.000000\n",
      "notrepaired          20.079070\n",
      "numberofpictures      0.000000\n",
      "postalcode            0.000000\n",
      "datecrawled_year      0.000000\n",
      "datecrawled_month     0.000000\n",
      "datecrawled_day       0.000000\n",
      "datecrawled_hour      0.000000\n",
      "datecreated_year      0.000000\n",
      "datecreated_month     0.000000\n",
      "datecreated_day       0.000000\n",
      "datecreated_hour      0.000000\n",
      "lastseen_year         0.000000\n",
      "lastseen_month        0.000000\n",
      "lastseen_day          0.000000\n",
      "lastseen_hour         0.000000\n",
      "dtype: float64\n"
     ]
    }
   ],
   "source": [
    "# primero pasar a minusculas las columnas\n",
    "cardata.columns = cardata.columns.str.lower()\n",
    "\n",
    "# Convertir las columnas de tiempo a marcas de tiempo\n",
    "cardata['datecrawled'] = pd.to_datetime(\n",
    "    cardata['datecrawled'], format='%d/%m/%Y %H:%M')\n",
    "cardata['datecreated'] = pd.to_datetime(\n",
    "    cardata['datecreated'], format='%d/%m/%Y %H:%M')\n",
    "cardata['lastseen'] = pd.to_datetime(\n",
    "    cardata['lastseen'], format='%d/%m/%Y %H:%M')\n",
    "\n",
    "# Extraer características relevantes de las fechas y horas\n",
    "cardata['datecrawled_year'] = cardata['datecrawled'].dt.year\n",
    "cardata['datecrawled_month'] = cardata['datecrawled'].dt.month\n",
    "cardata['datecrawled_day'] = cardata['datecrawled'].dt.day\n",
    "cardata['datecrawled_hour'] = cardata['datecrawled'].dt.hour\n",
    "\n",
    "cardata['datecreated_year'] = cardata['datecreated'].dt.year\n",
    "cardata['datecreated_month'] = cardata['datecreated'].dt.month\n",
    "cardata['datecreated_day'] = cardata['datecreated'].dt.day\n",
    "cardata['datecreated_hour'] = cardata['datecreated'].dt.hour\n",
    "\n",
    "cardata['lastseen_year'] = cardata['lastseen'].dt.year\n",
    "cardata['lastseen_month'] = cardata['lastseen'].dt.month\n",
    "cardata['lastseen_day'] = cardata['lastseen'].dt.day\n",
    "cardata['lastseen_hour'] = cardata['lastseen'].dt.hour\n",
    "\n",
    "\n",
    "# se eliminan las columnas de tiempo originales ya que no son necesarias\n",
    "cardata.drop(['datecrawled', 'datecreated', 'lastseen'], axis=1, inplace=True)\n",
    "\n",
    "\n",
    "total_rows = cardata.shape[0]\n",
    "null_count = cardata.isnull().sum()\n",
    "null_values = (null_count/total_rows) * 100\n",
    "\n",
    "print(\"Porcentaje de valores faltantes en cada columna:\")\n",
    "\n",
    "print(null_values)"
   ]
  },
  {
   "cell_type": "code",
   "execution_count": 5,
   "metadata": {},
   "outputs": [
    {
     "data": {
      "text/html": [
       "<div>\n",
       "<style scoped>\n",
       "    .dataframe tbody tr th:only-of-type {\n",
       "        vertical-align: middle;\n",
       "    }\n",
       "\n",
       "    .dataframe tbody tr th {\n",
       "        vertical-align: top;\n",
       "    }\n",
       "\n",
       "    .dataframe thead th {\n",
       "        text-align: right;\n",
       "    }\n",
       "</style>\n",
       "<table border=\"1\" class=\"dataframe\">\n",
       "  <thead>\n",
       "    <tr style=\"text-align: right;\">\n",
       "      <th></th>\n",
       "      <th>price</th>\n",
       "      <th>vehicletype</th>\n",
       "      <th>registrationyear</th>\n",
       "      <th>gearbox</th>\n",
       "      <th>power</th>\n",
       "      <th>model</th>\n",
       "      <th>mileage</th>\n",
       "      <th>registrationmonth</th>\n",
       "      <th>fueltype</th>\n",
       "      <th>brand</th>\n",
       "      <th>...</th>\n",
       "      <th>datecrawled_day</th>\n",
       "      <th>datecrawled_hour</th>\n",
       "      <th>datecreated_year</th>\n",
       "      <th>datecreated_month</th>\n",
       "      <th>datecreated_day</th>\n",
       "      <th>datecreated_hour</th>\n",
       "      <th>lastseen_year</th>\n",
       "      <th>lastseen_month</th>\n",
       "      <th>lastseen_day</th>\n",
       "      <th>lastseen_hour</th>\n",
       "    </tr>\n",
       "  </thead>\n",
       "  <tbody>\n",
       "    <tr>\n",
       "      <th>0</th>\n",
       "      <td>480</td>\n",
       "      <td>NaN</td>\n",
       "      <td>1993</td>\n",
       "      <td>manual</td>\n",
       "      <td>0</td>\n",
       "      <td>golf</td>\n",
       "      <td>150000</td>\n",
       "      <td>0</td>\n",
       "      <td>petrol</td>\n",
       "      <td>volkswagen</td>\n",
       "      <td>...</td>\n",
       "      <td>24</td>\n",
       "      <td>11</td>\n",
       "      <td>2016</td>\n",
       "      <td>3</td>\n",
       "      <td>24</td>\n",
       "      <td>0</td>\n",
       "      <td>2016</td>\n",
       "      <td>4</td>\n",
       "      <td>7</td>\n",
       "      <td>3</td>\n",
       "    </tr>\n",
       "    <tr>\n",
       "      <th>1</th>\n",
       "      <td>18300</td>\n",
       "      <td>coupe</td>\n",
       "      <td>2011</td>\n",
       "      <td>manual</td>\n",
       "      <td>190</td>\n",
       "      <td>NaN</td>\n",
       "      <td>125000</td>\n",
       "      <td>5</td>\n",
       "      <td>gasoline</td>\n",
       "      <td>audi</td>\n",
       "      <td>...</td>\n",
       "      <td>24</td>\n",
       "      <td>10</td>\n",
       "      <td>2016</td>\n",
       "      <td>3</td>\n",
       "      <td>24</td>\n",
       "      <td>0</td>\n",
       "      <td>2016</td>\n",
       "      <td>4</td>\n",
       "      <td>7</td>\n",
       "      <td>1</td>\n",
       "    </tr>\n",
       "    <tr>\n",
       "      <th>2</th>\n",
       "      <td>9800</td>\n",
       "      <td>suv</td>\n",
       "      <td>2004</td>\n",
       "      <td>auto</td>\n",
       "      <td>163</td>\n",
       "      <td>grand</td>\n",
       "      <td>125000</td>\n",
       "      <td>8</td>\n",
       "      <td>gasoline</td>\n",
       "      <td>jeep</td>\n",
       "      <td>...</td>\n",
       "      <td>14</td>\n",
       "      <td>12</td>\n",
       "      <td>2016</td>\n",
       "      <td>3</td>\n",
       "      <td>14</td>\n",
       "      <td>0</td>\n",
       "      <td>2016</td>\n",
       "      <td>4</td>\n",
       "      <td>5</td>\n",
       "      <td>12</td>\n",
       "    </tr>\n",
       "    <tr>\n",
       "      <th>3</th>\n",
       "      <td>1500</td>\n",
       "      <td>small</td>\n",
       "      <td>2001</td>\n",
       "      <td>manual</td>\n",
       "      <td>75</td>\n",
       "      <td>golf</td>\n",
       "      <td>150000</td>\n",
       "      <td>6</td>\n",
       "      <td>petrol</td>\n",
       "      <td>volkswagen</td>\n",
       "      <td>...</td>\n",
       "      <td>17</td>\n",
       "      <td>16</td>\n",
       "      <td>2016</td>\n",
       "      <td>3</td>\n",
       "      <td>17</td>\n",
       "      <td>0</td>\n",
       "      <td>2016</td>\n",
       "      <td>3</td>\n",
       "      <td>17</td>\n",
       "      <td>17</td>\n",
       "    </tr>\n",
       "    <tr>\n",
       "      <th>4</th>\n",
       "      <td>3600</td>\n",
       "      <td>small</td>\n",
       "      <td>2008</td>\n",
       "      <td>manual</td>\n",
       "      <td>69</td>\n",
       "      <td>fabia</td>\n",
       "      <td>90000</td>\n",
       "      <td>7</td>\n",
       "      <td>gasoline</td>\n",
       "      <td>skoda</td>\n",
       "      <td>...</td>\n",
       "      <td>31</td>\n",
       "      <td>17</td>\n",
       "      <td>2016</td>\n",
       "      <td>3</td>\n",
       "      <td>31</td>\n",
       "      <td>0</td>\n",
       "      <td>2016</td>\n",
       "      <td>4</td>\n",
       "      <td>6</td>\n",
       "      <td>10</td>\n",
       "    </tr>\n",
       "  </tbody>\n",
       "</table>\n",
       "<p>5 rows × 25 columns</p>\n",
       "</div>"
      ],
      "text/plain": [
       "   price vehicletype  registrationyear gearbox  power  model  mileage  \\\n",
       "0    480         NaN              1993  manual      0   golf   150000   \n",
       "1  18300       coupe              2011  manual    190    NaN   125000   \n",
       "2   9800         suv              2004    auto    163  grand   125000   \n",
       "3   1500       small              2001  manual     75   golf   150000   \n",
       "4   3600       small              2008  manual     69  fabia    90000   \n",
       "\n",
       "   registrationmonth  fueltype       brand  ... datecrawled_day  \\\n",
       "0                  0    petrol  volkswagen  ...              24   \n",
       "1                  5  gasoline        audi  ...              24   \n",
       "2                  8  gasoline        jeep  ...              14   \n",
       "3                  6    petrol  volkswagen  ...              17   \n",
       "4                  7  gasoline       skoda  ...              31   \n",
       "\n",
       "   datecrawled_hour  datecreated_year  datecreated_month  datecreated_day  \\\n",
       "0                11              2016                  3               24   \n",
       "1                10              2016                  3               24   \n",
       "2                12              2016                  3               14   \n",
       "3                16              2016                  3               17   \n",
       "4                17              2016                  3               31   \n",
       "\n",
       "   datecreated_hour  lastseen_year  lastseen_month  lastseen_day  \\\n",
       "0                 0           2016               4             7   \n",
       "1                 0           2016               4             7   \n",
       "2                 0           2016               4             5   \n",
       "3                 0           2016               3            17   \n",
       "4                 0           2016               4             6   \n",
       "\n",
       "   lastseen_hour  \n",
       "0              3  \n",
       "1              1  \n",
       "2             12  \n",
       "3             17  \n",
       "4             10  \n",
       "\n",
       "[5 rows x 25 columns]"
      ]
     },
     "metadata": {},
     "output_type": "display_data"
    }
   ],
   "source": [
    "display(cardata.head())"
   ]
  },
  {
   "cell_type": "markdown",
   "metadata": {},
   "source": [
    "Al realizar el analisis de valores ausentes podemos observar que los que los contienen son características categóricas y debido a que la naturaleza de los datos no nos permite usar media, mediana o moda ya que cambiaria el contexto y la finalidad de la información la decición que me parece mas sensata es nombrar los ausentes como otra categoria: 'unknown'. De ésta manera, los usuarios que omitan esta información recibirán una predicción de precio basado solo en los datos que se ingresan con el algoritmo entrenado para ello. "
   ]
  },
  {
   "cell_type": "code",
   "execution_count": 6,
   "metadata": {},
   "outputs": [
    {
     "name": "stdout",
     "output_type": "stream",
     "text": [
      "<class 'pandas.core.frame.DataFrame'>\n",
      "RangeIndex: 354369 entries, 0 to 354368\n",
      "Data columns (total 25 columns):\n",
      " #   Column             Non-Null Count   Dtype \n",
      "---  ------             --------------   ----- \n",
      " 0   price              354369 non-null  int64 \n",
      " 1   vehicletype        354369 non-null  object\n",
      " 2   registrationyear   354369 non-null  int64 \n",
      " 3   gearbox            354369 non-null  object\n",
      " 4   power              354369 non-null  int64 \n",
      " 5   model              354369 non-null  object\n",
      " 6   mileage            354369 non-null  int64 \n",
      " 7   registrationmonth  354369 non-null  int64 \n",
      " 8   fueltype           354369 non-null  object\n",
      " 9   brand              354369 non-null  object\n",
      " 10  notrepaired        354369 non-null  object\n",
      " 11  numberofpictures   354369 non-null  int64 \n",
      " 12  postalcode         354369 non-null  int64 \n",
      " 13  datecrawled_year   354369 non-null  int64 \n",
      " 14  datecrawled_month  354369 non-null  int64 \n",
      " 15  datecrawled_day    354369 non-null  int64 \n",
      " 16  datecrawled_hour   354369 non-null  int64 \n",
      " 17  datecreated_year   354369 non-null  int64 \n",
      " 18  datecreated_month  354369 non-null  int64 \n",
      " 19  datecreated_day    354369 non-null  int64 \n",
      " 20  datecreated_hour   354369 non-null  int64 \n",
      " 21  lastseen_year      354369 non-null  int64 \n",
      " 22  lastseen_month     354369 non-null  int64 \n",
      " 23  lastseen_day       354369 non-null  int64 \n",
      " 24  lastseen_hour      354369 non-null  int64 \n",
      "dtypes: int64(19), object(6)\n",
      "memory usage: 67.6+ MB\n"
     ]
    }
   ],
   "source": [
    "cardata.fillna('Unknown', inplace=True)\n",
    "cardata.info()"
   ]
  },
  {
   "cell_type": "markdown",
   "metadata": {},
   "source": [
    "### Revisión de estadísticos"
   ]
  },
  {
   "cell_type": "code",
   "execution_count": 7,
   "metadata": {},
   "outputs": [
    {
     "data": {
      "text/html": [
       "<div>\n",
       "<style scoped>\n",
       "    .dataframe tbody tr th:only-of-type {\n",
       "        vertical-align: middle;\n",
       "    }\n",
       "\n",
       "    .dataframe tbody tr th {\n",
       "        vertical-align: top;\n",
       "    }\n",
       "\n",
       "    .dataframe thead th {\n",
       "        text-align: right;\n",
       "    }\n",
       "</style>\n",
       "<table border=\"1\" class=\"dataframe\">\n",
       "  <thead>\n",
       "    <tr style=\"text-align: right;\">\n",
       "      <th></th>\n",
       "      <th>price</th>\n",
       "      <th>registrationyear</th>\n",
       "      <th>power</th>\n",
       "      <th>mileage</th>\n",
       "      <th>registrationmonth</th>\n",
       "      <th>numberofpictures</th>\n",
       "      <th>postalcode</th>\n",
       "      <th>datecrawled_year</th>\n",
       "      <th>datecrawled_month</th>\n",
       "      <th>datecrawled_day</th>\n",
       "      <th>datecrawled_hour</th>\n",
       "      <th>datecreated_year</th>\n",
       "      <th>datecreated_month</th>\n",
       "      <th>datecreated_day</th>\n",
       "      <th>datecreated_hour</th>\n",
       "      <th>lastseen_year</th>\n",
       "      <th>lastseen_month</th>\n",
       "      <th>lastseen_day</th>\n",
       "      <th>lastseen_hour</th>\n",
       "    </tr>\n",
       "  </thead>\n",
       "  <tbody>\n",
       "    <tr>\n",
       "      <th>count</th>\n",
       "      <td>354369.000000</td>\n",
       "      <td>354369.000000</td>\n",
       "      <td>354369.000000</td>\n",
       "      <td>354369.000000</td>\n",
       "      <td>354369.000000</td>\n",
       "      <td>354369.0</td>\n",
       "      <td>354369.000000</td>\n",
       "      <td>354369.0</td>\n",
       "      <td>354369.000000</td>\n",
       "      <td>354369.000000</td>\n",
       "      <td>354369.000000</td>\n",
       "      <td>354369.000000</td>\n",
       "      <td>354369.000000</td>\n",
       "      <td>354369.000000</td>\n",
       "      <td>354369.0</td>\n",
       "      <td>354369.0</td>\n",
       "      <td>354369.000000</td>\n",
       "      <td>354369.000000</td>\n",
       "      <td>354369.000000</td>\n",
       "    </tr>\n",
       "    <tr>\n",
       "      <th>mean</th>\n",
       "      <td>4416.656776</td>\n",
       "      <td>2004.234448</td>\n",
       "      <td>110.094337</td>\n",
       "      <td>128211.172535</td>\n",
       "      <td>5.714645</td>\n",
       "      <td>0.0</td>\n",
       "      <td>50508.689087</td>\n",
       "      <td>2016.0</td>\n",
       "      <td>3.162387</td>\n",
       "      <td>15.852783</td>\n",
       "      <td>14.909665</td>\n",
       "      <td>2015.999924</td>\n",
       "      <td>3.160189</td>\n",
       "      <td>15.859689</td>\n",
       "      <td>0.0</td>\n",
       "      <td>2016.0</td>\n",
       "      <td>3.564987</td>\n",
       "      <td>11.963456</td>\n",
       "      <td>11.813835</td>\n",
       "    </tr>\n",
       "    <tr>\n",
       "      <th>std</th>\n",
       "      <td>4514.158514</td>\n",
       "      <td>90.227958</td>\n",
       "      <td>189.850405</td>\n",
       "      <td>37905.341530</td>\n",
       "      <td>3.726421</td>\n",
       "      <td>0.0</td>\n",
       "      <td>25783.096248</td>\n",
       "      <td>0.0</td>\n",
       "      <td>0.368806</td>\n",
       "      <td>9.116311</td>\n",
       "      <td>5.422938</td>\n",
       "      <td>0.009046</td>\n",
       "      <td>0.376284</td>\n",
       "      <td>9.123133</td>\n",
       "      <td>0.0</td>\n",
       "      <td>0.0</td>\n",
       "      <td>0.495759</td>\n",
       "      <td>8.886562</td>\n",
       "      <td>6.516410</td>\n",
       "    </tr>\n",
       "    <tr>\n",
       "      <th>min</th>\n",
       "      <td>0.000000</td>\n",
       "      <td>1000.000000</td>\n",
       "      <td>0.000000</td>\n",
       "      <td>5000.000000</td>\n",
       "      <td>0.000000</td>\n",
       "      <td>0.0</td>\n",
       "      <td>1067.000000</td>\n",
       "      <td>2016.0</td>\n",
       "      <td>3.000000</td>\n",
       "      <td>1.000000</td>\n",
       "      <td>0.000000</td>\n",
       "      <td>2014.000000</td>\n",
       "      <td>1.000000</td>\n",
       "      <td>1.000000</td>\n",
       "      <td>0.0</td>\n",
       "      <td>2016.0</td>\n",
       "      <td>3.000000</td>\n",
       "      <td>1.000000</td>\n",
       "      <td>0.000000</td>\n",
       "    </tr>\n",
       "    <tr>\n",
       "      <th>25%</th>\n",
       "      <td>1050.000000</td>\n",
       "      <td>1999.000000</td>\n",
       "      <td>69.000000</td>\n",
       "      <td>125000.000000</td>\n",
       "      <td>3.000000</td>\n",
       "      <td>0.0</td>\n",
       "      <td>30165.000000</td>\n",
       "      <td>2016.0</td>\n",
       "      <td>3.000000</td>\n",
       "      <td>8.000000</td>\n",
       "      <td>12.000000</td>\n",
       "      <td>2016.000000</td>\n",
       "      <td>3.000000</td>\n",
       "      <td>8.000000</td>\n",
       "      <td>0.0</td>\n",
       "      <td>2016.0</td>\n",
       "      <td>3.000000</td>\n",
       "      <td>6.000000</td>\n",
       "      <td>7.000000</td>\n",
       "    </tr>\n",
       "    <tr>\n",
       "      <th>50%</th>\n",
       "      <td>2700.000000</td>\n",
       "      <td>2003.000000</td>\n",
       "      <td>105.000000</td>\n",
       "      <td>150000.000000</td>\n",
       "      <td>6.000000</td>\n",
       "      <td>0.0</td>\n",
       "      <td>49413.000000</td>\n",
       "      <td>2016.0</td>\n",
       "      <td>3.000000</td>\n",
       "      <td>16.000000</td>\n",
       "      <td>16.000000</td>\n",
       "      <td>2016.000000</td>\n",
       "      <td>3.000000</td>\n",
       "      <td>16.000000</td>\n",
       "      <td>0.0</td>\n",
       "      <td>2016.0</td>\n",
       "      <td>4.000000</td>\n",
       "      <td>7.000000</td>\n",
       "      <td>12.000000</td>\n",
       "    </tr>\n",
       "    <tr>\n",
       "      <th>75%</th>\n",
       "      <td>6400.000000</td>\n",
       "      <td>2008.000000</td>\n",
       "      <td>143.000000</td>\n",
       "      <td>150000.000000</td>\n",
       "      <td>9.000000</td>\n",
       "      <td>0.0</td>\n",
       "      <td>71083.000000</td>\n",
       "      <td>2016.0</td>\n",
       "      <td>3.000000</td>\n",
       "      <td>24.000000</td>\n",
       "      <td>19.000000</td>\n",
       "      <td>2016.000000</td>\n",
       "      <td>3.000000</td>\n",
       "      <td>24.000000</td>\n",
       "      <td>0.0</td>\n",
       "      <td>2016.0</td>\n",
       "      <td>4.000000</td>\n",
       "      <td>19.000000</td>\n",
       "      <td>17.000000</td>\n",
       "    </tr>\n",
       "    <tr>\n",
       "      <th>max</th>\n",
       "      <td>20000.000000</td>\n",
       "      <td>9999.000000</td>\n",
       "      <td>20000.000000</td>\n",
       "      <td>150000.000000</td>\n",
       "      <td>12.000000</td>\n",
       "      <td>0.0</td>\n",
       "      <td>99998.000000</td>\n",
       "      <td>2016.0</td>\n",
       "      <td>4.000000</td>\n",
       "      <td>31.000000</td>\n",
       "      <td>23.000000</td>\n",
       "      <td>2016.000000</td>\n",
       "      <td>12.000000</td>\n",
       "      <td>31.000000</td>\n",
       "      <td>0.0</td>\n",
       "      <td>2016.0</td>\n",
       "      <td>4.000000</td>\n",
       "      <td>31.000000</td>\n",
       "      <td>23.000000</td>\n",
       "    </tr>\n",
       "  </tbody>\n",
       "</table>\n",
       "</div>"
      ],
      "text/plain": [
       "               price  registrationyear          power        mileage  \\\n",
       "count  354369.000000     354369.000000  354369.000000  354369.000000   \n",
       "mean     4416.656776       2004.234448     110.094337  128211.172535   \n",
       "std      4514.158514         90.227958     189.850405   37905.341530   \n",
       "min         0.000000       1000.000000       0.000000    5000.000000   \n",
       "25%      1050.000000       1999.000000      69.000000  125000.000000   \n",
       "50%      2700.000000       2003.000000     105.000000  150000.000000   \n",
       "75%      6400.000000       2008.000000     143.000000  150000.000000   \n",
       "max     20000.000000       9999.000000   20000.000000  150000.000000   \n",
       "\n",
       "       registrationmonth  numberofpictures     postalcode  datecrawled_year  \\\n",
       "count      354369.000000          354369.0  354369.000000          354369.0   \n",
       "mean            5.714645               0.0   50508.689087            2016.0   \n",
       "std             3.726421               0.0   25783.096248               0.0   \n",
       "min             0.000000               0.0    1067.000000            2016.0   \n",
       "25%             3.000000               0.0   30165.000000            2016.0   \n",
       "50%             6.000000               0.0   49413.000000            2016.0   \n",
       "75%             9.000000               0.0   71083.000000            2016.0   \n",
       "max            12.000000               0.0   99998.000000            2016.0   \n",
       "\n",
       "       datecrawled_month  datecrawled_day  datecrawled_hour  datecreated_year  \\\n",
       "count      354369.000000    354369.000000     354369.000000     354369.000000   \n",
       "mean            3.162387        15.852783         14.909665       2015.999924   \n",
       "std             0.368806         9.116311          5.422938          0.009046   \n",
       "min             3.000000         1.000000          0.000000       2014.000000   \n",
       "25%             3.000000         8.000000         12.000000       2016.000000   \n",
       "50%             3.000000        16.000000         16.000000       2016.000000   \n",
       "75%             3.000000        24.000000         19.000000       2016.000000   \n",
       "max             4.000000        31.000000         23.000000       2016.000000   \n",
       "\n",
       "       datecreated_month  datecreated_day  datecreated_hour  lastseen_year  \\\n",
       "count      354369.000000    354369.000000          354369.0       354369.0   \n",
       "mean            3.160189        15.859689               0.0         2016.0   \n",
       "std             0.376284         9.123133               0.0            0.0   \n",
       "min             1.000000         1.000000               0.0         2016.0   \n",
       "25%             3.000000         8.000000               0.0         2016.0   \n",
       "50%             3.000000        16.000000               0.0         2016.0   \n",
       "75%             3.000000        24.000000               0.0         2016.0   \n",
       "max            12.000000        31.000000               0.0         2016.0   \n",
       "\n",
       "       lastseen_month   lastseen_day  lastseen_hour  \n",
       "count   354369.000000  354369.000000  354369.000000  \n",
       "mean         3.564987      11.963456      11.813835  \n",
       "std          0.495759       8.886562       6.516410  \n",
       "min          3.000000       1.000000       0.000000  \n",
       "25%          3.000000       6.000000       7.000000  \n",
       "50%          4.000000       7.000000      12.000000  \n",
       "75%          4.000000      19.000000      17.000000  \n",
       "max          4.000000      31.000000      23.000000  "
      ]
     },
     "execution_count": 7,
     "metadata": {},
     "output_type": "execute_result"
    }
   ],
   "source": [
    "cardata.describe()"
   ]
  },
  {
   "cell_type": "markdown",
   "metadata": {},
   "source": [
    "Al revisar estadísticos se ven algunas discrepancias:\n",
    "\n",
    "- El precio mínimo es 0.\n",
    "- El año de registro el minimo es 1000 y el máximo 9999 lo que indica error a la entrada de datos. \n",
    "- Debido a que uno de los automóviles mas rápidos del mundo llega a los 1800 cv, dudo mucho que exista un automóvil con un máximo de 20,000 cv como lo indica en la columna.\n",
    "- En la columna de registrationmonth dice que el mínimo es 0 lo cual es imposible ya que no hay un mes 0, dado que comienza con 1 enero. \n",
    "\n",
    "Se procederá a hacer una gráfica para ver que datos estan en éstos estremos y veremos si se procede a eliminarlos de la base de datos para no confundir a los algoritmos con funciones erroneas."
   ]
  },
  {
   "cell_type": "markdown",
   "metadata": {},
   "source": [
    "### Gráficos para la columna de precios"
   ]
  },
  {
   "cell_type": "code",
   "execution_count": 8,
   "metadata": {},
   "outputs": [
    {
     "data": {
      "image/png": "[encoded data removed]",
      "text/plain": [
       "<Figure size 576x432 with 1 Axes>"
      ]
     },
     "metadata": {
      "needs_background": "light"
     },
     "output_type": "display_data"
    },
    {
     "data": {
      "image/png": "[encoded data removed]",
      "text/plain": [
       "<Figure size 576x432 with 1 Axes>"
      ]
     },
     "metadata": {
      "needs_background": "light"
     },
     "output_type": "display_data"
    },
    {
     "name": "stdout",
     "output_type": "stream",
     "text": [
      "price                10772\n",
      "vehicletype          10772\n",
      "registrationyear     10772\n",
      "gearbox              10772\n",
      "power                10772\n",
      "model                10772\n",
      "mileage              10772\n",
      "registrationmonth    10772\n",
      "fueltype             10772\n",
      "brand                10772\n",
      "notrepaired          10772\n",
      "numberofpictures     10772\n",
      "postalcode           10772\n",
      "datecrawled_year     10772\n",
      "datecrawled_month    10772\n",
      "datecrawled_day      10772\n",
      "datecrawled_hour     10772\n",
      "datecreated_year     10772\n",
      "datecreated_month    10772\n",
      "datecreated_day      10772\n",
      "datecreated_hour     10772\n",
      "lastseen_year        10772\n",
      "lastseen_month       10772\n",
      "lastseen_day         10772\n",
      "lastseen_hour        10772\n",
      "dtype: int64\n"
     ]
    }
   ],
   "source": [
    "plt.figure(figsize=(8, 6))\n",
    "plt.boxplot(cardata['price'])\n",
    "plt.title('Diagrama de Caja para el Precio')\n",
    "plt.ylabel('Precio')\n",
    "plt.show()\n",
    "\n",
    "plt.figure(figsize=(8, 6))\n",
    "plt.hist(cardata['price'], bins=20, color='skyblue', edgecolor='black')\n",
    "plt.title('Histograma de precios')\n",
    "plt.xlabel('precio')\n",
    "plt.ylabel('Frecuencia')\n",
    "plt.show()\n",
    "\n",
    "minprices = cardata[(cardata['price'] == 0)]\n",
    "print(minprices.count())"
   ]
  },
  {
   "cell_type": "markdown",
   "metadata": {},
   "source": [
    "Debido a la alta cantidad de datos ingresados con un precio de 0, no se procederá a eliminarlos ya que una de las razones posibles sea que el auto este considerado como chatarra o debido a sus demás características, perdida total y como no se tiene mas información al respecto del porque hay tantos datos con esa información lo mas conveniente será dejarlos. "
   ]
  },
  {
   "cell_type": "markdown",
   "metadata": {},
   "source": [
    "### Gráficos para la columna de año de registro"
   ]
  },
  {
   "cell_type": "code",
   "execution_count": 9,
   "metadata": {},
   "outputs": [
    {
     "data": {
      "image/png": "[encoded data removed]",
      "text/plain": [
       "<Figure size 576x432 with 1 Axes>"
      ]
     },
     "metadata": {
      "needs_background": "light"
     },
     "output_type": "display_data"
    },
    {
     "data": {
      "image/png": "[encoded data removed]",
      "text/plain": [
       "<Figure size 576x432 with 1 Axes>"
      ]
     },
     "metadata": {
      "needs_background": "light"
     },
     "output_type": "display_data"
    }
   ],
   "source": [
    "plt.figure(figsize=(8, 6))\n",
    "plt.boxplot(cardata['registrationyear'])\n",
    "plt.title('Diagrama de Caja para registro')\n",
    "plt.ylabel('Año de registro')\n",
    "plt.show()\n",
    "\n",
    "plt.figure(figsize=(8, 6))\n",
    "plt.hist(cardata['registrationyear'], bins=20,\n",
    "         color='skyblue', edgecolor='black')\n",
    "plt.title('Histograma de registro')\n",
    "plt.xlabel('registro')\n",
    "plt.ylabel('Frecuencia')\n",
    "plt.show()"
   ]
  },
  {
   "cell_type": "markdown",
   "metadata": {},
   "source": [
    "En las graficas se puede apreciar que la mayoría de los datos se encuentran dentro de un año razonable pero hay algunos extremos los cuales procederemos a eliminarlos por datos coherentes como menor al 2024 y mayores a 1950, año en el cual la empresa automotríz ya se encontraba en su apogeo comenzando a distribuir automóviles en masa, y aunque poco probable, hay posibilidad de obtener uno de estos todavía por lo que se pondra como mínimo en nuestro algoritmo. "
   ]
  },
  {
   "cell_type": "code",
   "execution_count": 10,
   "metadata": {},
   "outputs": [],
   "source": [
    "# Eliminación de datos atípicos\n",
    "cardata = cardata[(cardata['registrationyear'] >= 1950) &\n",
    "                  (cardata['registrationyear'] <= 2024)]"
   ]
  },
  {
   "cell_type": "markdown",
   "metadata": {},
   "source": [
    "### Gráficos para la columna de año de potencia"
   ]
  },
  {
   "cell_type": "code",
   "execution_count": 11,
   "metadata": {},
   "outputs": [
    {
     "data": {
      "image/png": "[encoded data removed]",
      "text/plain": [
       "<Figure size 576x432 with 1 Axes>"
      ]
     },
     "metadata": {
      "needs_background": "light"
     },
     "output_type": "display_data"
    },
    {
     "data": {
      "image/png": "[encoded data removed]",
      "text/plain": [
       "<Figure size 576x432 with 1 Axes>"
      ]
     },
     "metadata": {
      "needs_background": "light"
     },
     "output_type": "display_data"
    },
    {
     "name": "stdout",
     "output_type": "stream",
     "text": [
      "La cantidad de autos con potencias atípicas de más de 1800 son: 144\n"
     ]
    }
   ],
   "source": [
    "plt.figure(figsize=(8, 6))\n",
    "plt.boxplot(cardata['power'])\n",
    "plt.title('Diagrama de Caja para potencia')\n",
    "plt.ylabel('Año de registro')\n",
    "plt.show()\n",
    "\n",
    "plt.figure(figsize=(8, 6))\n",
    "plt.hist(cardata['power'], bins=20, color='skyblue', edgecolor='black')\n",
    "plt.title('Histograma de potencia')\n",
    "plt.xlabel('potencia')\n",
    "plt.ylabel('Frecuencia')\n",
    "plt.show()\n",
    "\n",
    "\n",
    "print('La cantidad de autos con potencias atípicas de más de 1800 son:',\n",
    "      (cardata['power'] > 1800).sum())"
   ]
  },
  {
   "cell_type": "markdown",
   "metadata": {},
   "source": [
    "Se procederá con la eliminación de los datos atípicos:"
   ]
  },
  {
   "cell_type": "code",
   "execution_count": 12,
   "metadata": {},
   "outputs": [],
   "source": [
    "cardata = cardata[(cardata['power'] < 1800)]"
   ]
  },
  {
   "cell_type": "markdown",
   "metadata": {},
   "source": [
    "### Gráficos para la columna de mes de registro\n"
   ]
  },
  {
   "cell_type": "code",
   "execution_count": 13,
   "metadata": {},
   "outputs": [
    {
     "data": {
      "image/png": "[encoded data removed]",
      "text/plain": [
       "<Figure size 576x432 with 1 Axes>"
      ]
     },
     "metadata": {
      "needs_background": "light"
     },
     "output_type": "display_data"
    },
    {
     "data": {
      "image/png": "[encoded data removed]",
      "text/plain": [
       "<Figure size 576x432 with 1 Axes>"
      ]
     },
     "metadata": {
      "needs_background": "light"
     },
     "output_type": "display_data"
    },
    {
     "name": "stdout",
     "output_type": "stream",
     "text": [
      "La cantidad de autos con registro en el mes 0 es de: 37104\n"
     ]
    }
   ],
   "source": [
    "plt.figure(figsize=(8, 6))\n",
    "plt.boxplot(cardata['registrationmonth'])\n",
    "plt.title('Diagrama de Caja para mes de registro')\n",
    "plt.ylabel('mes de registro')\n",
    "plt.show()\n",
    "\n",
    "plt.figure(figsize=(8, 6))\n",
    "plt.hist(cardata['registrationmonth'], bins=20,\n",
    "         color='skyblue', edgecolor='black')\n",
    "plt.title('Histograma de mes de registro')\n",
    "plt.xlabel('mes de registro')\n",
    "plt.ylabel('Frecuencia')\n",
    "plt.show()\n",
    "\n",
    "print('La cantidad de autos con registro en el mes 0 es de:',\n",
    "      (cardata['registrationmonth'] == 0).sum())"
   ]
  },
  {
   "cell_type": "markdown",
   "metadata": {},
   "source": [
    "### Resumen:\n",
    "\n",
    "Para la columna de precios, debido a la alta cantidad de datos ingresados con un precio de 0, no se procederá a eliminarlos ya que una de las razones posibles sea que el auto este considerado como chatarra o debido a sus demás características, perdida total y como no se tiene mas información al respecto del porque hay tantos datos con esa información lo mas conveniente será dejarlos.\n",
    "\n",
    "Para el año de registro, En las graficas se puede apreciar que la mayoría de los datos se encuentran dentro de un año razonable pero hay algunos extremos los cuales procederemos a eliminarlos por datos coherentes como menor al 2024 y mayores a 1950, año en el cual la empresa automotriz ya se encontraba en su apogeo comenzando a distribuir automóviles en masa, y aunque poco probable, hay posibilidad de obtener uno de estos todavía por lo que se filtrará como mínimo en nuestra base de datos. Seleccionar datos anteriores a esta fecha sería inadecuado si queremos mantener consistencia y calidad de datos, pues aunque si haya automóviles con fechas anteriores a 1950, no hay suficiente información confiable sobre ellos, por lo que se procede a excluir esos datos para mantener la coherencia en el conjunto de datos y es posible que los datos disponibles para los automóviles anteriores a 1950 sean menos confiables o estén incompletos. Al limitar el conjunto de datos a los años más recientes, se puede mejorar la calidad y la integridad de los datos utilizados en el análisis.\n",
    "\n",
    "Se toma como un máximo una potencia de 1800 cv ya que pocos automóviles en el mundo cumplen con ésta característica y los cuales no se encuentran en esta tabla, tal es el caso del automóvil Lotus Evija que registro un cv de 1700 -1800 cv. lo que indica nuestro límite para el filtro de potencia. \n",
    "\n",
    "Debido a la gran cantidad de datos con registro 0 y sin haber mayores a 12 se consideran como 0 aquellos cuyo dato fue desconocido o faltante. De esta manera no se eliminarán ya que son el 10% de datos totales y se descarta un error en la entrada de datos.\n",
    "\n",
    "Aquellos datos mencionados que fueron eliminados del dataset se consideran inadecuados por las razones expresadas en éste resumen y aquellos que no fue posible eliminarlos debido a su alta cantidad se tratarán como valores nulos para seguir adelante con el entrenamiento del algoritmo. "
   ]
  },
  {
   "cell_type": "markdown",
   "metadata": {},
   "source": [
    "## Entrenamiento del modelo "
   ]
  },
  {
   "cell_type": "code",
   "execution_count": 14,
   "metadata": {},
   "outputs": [],
   "source": [
    "# Division de df para entrenamiento y validación\n",
    "\n",
    "features_train, features_valid, target_train, target_valid = train_test_split(\n",
    "    cardata.drop('price', axis=1), cardata.price, test_size=0.25, random_state=12345)\n",
    "\n",
    "# DF para algoritmos cuyas características categoricas necesiten codificacion OHE\n",
    "\n",
    "cardata_OHE = pd.get_dummies(cardata, columns=[\n",
    "                             'vehicletype', 'gearbox', 'model', 'fueltype', 'brand', 'notrepaired'])\n",
    "\n",
    "features_train_ohe, features_valid_ohe, target_train_ohe, target_valid_ohe = train_test_split(\n",
    "    cardata_OHE.drop('price', axis=1), cardata_OHE.price, test_size=0.25, random_state=12345)"
   ]
  },
  {
   "cell_type": "markdown",
   "metadata": {},
   "source": [
    "### Entrenamiento con regresión lineal"
   ]
  },
  {
   "cell_type": "code",
   "execution_count": 15,
   "metadata": {},
   "outputs": [
    {
     "name": "stdout",
     "output_type": "stream",
     "text": [
      "CPU times: user 19.3 s, sys: 2.49 s, total: 21.8 s\n",
      "Wall time: 21.8 s\n",
      "RMSE del modelo de regresión lineal en datos de entrenamiento: 2760.076688646537\n",
      "\n",
      "CPU times: user 98.3 ms, sys: 158 ms, total: 256 ms\n",
      "Wall time: 290 ms\n",
      "RECM del modelo de regresión lineal en datos de validación: 2774.2910142864584\n"
     ]
    }
   ],
   "source": [
    "\n",
    "modelR = LinearRegression()\n",
    "%time modelR.fit(features_train_ohe, target_train_ohe)\n",
    "predictions_trainR_ohe = modelR.predict(features_train_ohe)\n",
    "result_trainR = mean_squared_error(target_train_ohe, predictions_trainR_ohe)**0.5\n",
    "print(\"RMSE del modelo de regresión lineal en datos de entrenamiento:\", result_trainR)\n",
    "print()\n",
    "\n",
    "%time predictions_validR_ohe = modelR.predict(features_valid_ohe)\n",
    "resultR = mean_squared_error(target_valid_ohe, predictions_validR_ohe)**0.5\n",
    "\n",
    "\n",
    "print(\"RECM del modelo de regresión lineal en datos de validación:\", resultR)"
   ]
  },
  {
   "cell_type": "markdown",
   "metadata": {},
   "source": [
    "### Entrenamiento con Potenciación del gradiente (gradient boosting) de la libreria lightGBM en un bosque aleatorio\n",
    "\n",
    "**PRIMERA CONFIGURACION**"
   ]
  },
  {
   "cell_type": "code",
   "execution_count": 16,
   "metadata": {},
   "outputs": [
    {
     "name": "stdout",
     "output_type": "stream",
     "text": [
      "[LightGBM] [Warning] bagging_fraction is set=0.8, subsample=1.0 will be ignored. Current value: bagging_fraction=0.8\n",
      "[LightGBM] [Warning] bagging_freq is set=1, subsample_freq=0 will be ignored. Current value: bagging_freq=1\n",
      "CPU times: user 14.2 s, sys: 302 ms, total: 14.5 s\n",
      "Wall time: 14.6 s\n",
      "RMSE del modelo en datos de entrenamiento: 2349.0085135701192\n",
      "\n",
      "CPU times: user 1.22 s, sys: 58.3 ms, total: 1.27 s\n",
      "Wall time: 1.23 s\n",
      "RECM del modelo de bosque aleatorio en lightGBM en validación : 2341.8409418091874\n"
     ]
    }
   ],
   "source": [
    "\n",
    "model_l = lgb.LGBMRegressor(boosting_type = 'rf', n_estimators = 150, learning_rate= 0.01,max_depth = 15, colsample_bytree = 0.8,bagging_freq=1,bagging_fraction=0.8, random_state = 12345)\n",
    "%time model_l.fit(features_train_ohe, target_train_ohe)\n",
    "predictions_train_l_ohe = model_l.predict(features_train_ohe)\n",
    "result_train_l = mean_squared_error(target_train_ohe, predictions_train_l_ohe)**0.5\n",
    "print(\"RMSE del modelo en datos de entrenamiento:\", result_train_l)\n",
    "print()\n",
    "\n",
    "\n",
    "%time predictions_valid_l = model_l.predict(features_valid_ohe)\n",
    "result_l = mean_squared_error(target_valid_ohe, predictions_valid_l)**0.5\n",
    "\n",
    "print(\"RECM del modelo de bosque aleatorio en lightGBM en validación :\", result_l)"
   ]
  },
  {
   "cell_type": "markdown",
   "metadata": {},
   "source": [
    "**SEGUNDA CONFIGURACION**"
   ]
  },
  {
   "cell_type": "code",
   "execution_count": 17,
   "metadata": {},
   "outputs": [
    {
     "name": "stdout",
     "output_type": "stream",
     "text": [
      "[LightGBM] [Warning] bagging_fraction is set=0.8, subsample=1.0 will be ignored. Current value: bagging_fraction=0.8\n",
      "[LightGBM] [Warning] bagging_freq is set=1, subsample_freq=0 will be ignored. Current value: bagging_freq=1\n",
      "CPU times: user 18 s, sys: 232 ms, total: 18.3 s\n",
      "Wall time: 18.3 s\n",
      "RMSE del modelo en datos de entrenamiento: 2368.9080782400893\n",
      "\n",
      "CPU times: user 1.47 s, sys: 66.6 ms, total: 1.53 s\n",
      "Wall time: 1.57 s\n",
      "RECM del modelo de bosque aleatorio en lightGBM : 2359.759436045047\n"
     ]
    }
   ],
   "source": [
    "\n",
    "model_l = lgb.LGBMRegressor(boosting_type = 'rf', n_estimators = 200, learning_rate= 0.01,max_depth = 20, colsample_bytree = 0.9,bagging_freq=1,bagging_fraction=0.8, random_state = 12345)\n",
    "%time model_l.fit(features_train_ohe, target_train_ohe)\n",
    "predictions_train_l_ohe = model_l.predict(features_train_ohe)\n",
    "result_train_l = mean_squared_error(target_train_ohe, predictions_train_l_ohe)**0.5\n",
    "print(\"RMSE del modelo en datos de entrenamiento:\", result_train_l)\n",
    "print()\n",
    "\n",
    "%time predictions_valid_l = model_l.predict(features_valid_ohe)\n",
    "result_l = mean_squared_error(target_valid_ohe, predictions_valid_l)**0.5\n",
    "\n",
    "print(\"RECM del modelo de bosque aleatorio en lightGBM :\", result_l)"
   ]
  },
  {
   "cell_type": "markdown",
   "metadata": {},
   "source": [
    "### Entrenamiento con Potenciación del gradiente (gradient boosting) de la libreria lightGBM en un árbol de decisiones.\n",
    "\n",
    "**PRIMERA CONFIGURACION**"
   ]
  },
  {
   "cell_type": "code",
   "execution_count": 18,
   "metadata": {},
   "outputs": [
    {
     "name": "stdout",
     "output_type": "stream",
     "text": [
      "CPU times: user 1min 11s, sys: 759 ms, total: 1min 11s\n",
      "Wall time: 1min 12s\n",
      "RMSE del modelo en datos de entrenamiento: 1790.6129572786049\n",
      "\n",
      "CPU times: user 1.07 s, sys: 52.2 ms, total: 1.12 s\n",
      "Wall time: 1.11 s\n",
      "RECM del modelo de árbol de decisiones en LightGBM: 1800.0636993529026\n"
     ]
    }
   ],
   "source": [
    "\n",
    "model_tree_l = lgb.LGBMRegressor(boosting_type='gbdt', num_leaves=31, max_depth=10, learning_rate=0.1, random_state=12345)\n",
    "%time model_tree_l.fit(features_train_ohe, target_train_ohe)\n",
    "predictions_train_tree_l_ohe = model_tree_l.predict(features_train_ohe)\n",
    "result_train_tree_l = mean_squared_error(target_train_ohe, predictions_train_tree_l_ohe)**0.5\n",
    "print(\"RMSE del modelo en datos de entrenamiento:\", result_train_tree_l)\n",
    "print()\n",
    "\n",
    "%time predictions_valid_tree_l = model_tree_l.predict(features_valid_ohe)\n",
    "result_tree_l = mean_squared_error(target_valid_ohe, predictions_valid_tree_l)**0.5\n",
    "\n",
    "print(\"RECM del modelo de árbol de decisiones en LightGBM:\", result_tree_l)\n"
   ]
  },
  {
   "cell_type": "markdown",
   "metadata": {},
   "source": [
    "**SEGUNDA CONFIGURACION**"
   ]
  },
  {
   "cell_type": "code",
   "execution_count": 19,
   "metadata": {},
   "outputs": [
    {
     "name": "stdout",
     "output_type": "stream",
     "text": [
      "CPU times: user 1min 49s, sys: 958 ms, total: 1min 50s\n",
      "Wall time: 1min 51s\n",
      "RMSE del modelo en datos de entrenamiento: 1751.4123250409384\n",
      "\n",
      "CPU times: user 1.19 s, sys: 81.1 ms, total: 1.27 s\n",
      "Wall time: 1.28 s\n",
      "RECM del modelo de árbol de decisiones en LightGBM: 1767.9463947667869\n"
     ]
    }
   ],
   "source": [
    "\n",
    "model_tree_l = lgb.LGBMRegressor(boosting_type='gbdt', num_leaves=40, max_depth=20, learning_rate=0.1, random_state=12345)\n",
    "%time model_tree_l.fit(features_train_ohe, target_train_ohe)\n",
    "predictions_train_tree_l_ohe = model_tree_l.predict(features_train_ohe)\n",
    "result_train_tree_l = mean_squared_error(target_train_ohe, predictions_train_tree_l_ohe)**0.5\n",
    "print(\"RMSE del modelo en datos de entrenamiento:\", result_train_tree_l)\n",
    "print()\n",
    "\n",
    "%time predictions_valid_tree_l = model_tree_l.predict(features_valid_ohe)\n",
    "result_tree_l = mean_squared_error(target_valid_ohe, predictions_valid_tree_l)**0.5\n",
    "\n",
    "print(\"RECM del modelo de árbol de decisiones en LightGBM:\", result_tree_l)"
   ]
  },
  {
   "cell_type": "markdown",
   "metadata": {},
   "source": [
    "### Entrenamiento con Potenciación del gradiente (gradient boosting) de la libreria CATboost\n",
    "\n",
    "**PRIMERA CONFIGURACION**"
   ]
  },
  {
   "cell_type": "code",
   "execution_count": 20,
   "metadata": {
    "scrolled": false
   },
   "outputs": [
    {
     "name": "stdout",
     "output_type": "stream",
     "text": [
      "0:\tlearn: 4230.0209105\ttotal: 336ms\tremaining: 50s\n",
      "10:\tlearn: 2768.7084674\ttotal: 3s\tremaining: 37.9s\n",
      "20:\tlearn: 2304.5715722\ttotal: 5.62s\tremaining: 34.5s\n",
      "30:\tlearn: 2129.3067577\ttotal: 8.26s\tremaining: 31.7s\n",
      "40:\tlearn: 2055.3952901\ttotal: 10.8s\tremaining: 28.6s\n",
      "50:\tlearn: 2011.8238574\ttotal: 13.3s\tremaining: 25.8s\n",
      "60:\tlearn: 1981.3775058\ttotal: 15.8s\tremaining: 23.1s\n",
      "70:\tlearn: 1959.6582221\ttotal: 18.4s\tremaining: 20.5s\n",
      "80:\tlearn: 1930.9364032\ttotal: 20.9s\tremaining: 17.8s\n",
      "90:\tlearn: 1912.0098256\ttotal: 23.5s\tremaining: 15.2s\n",
      "100:\tlearn: 1897.5020119\ttotal: 26s\tremaining: 12.6s\n",
      "110:\tlearn: 1886.7442053\ttotal: 28.5s\tremaining: 10s\n",
      "120:\tlearn: 1874.5859539\ttotal: 31.1s\tremaining: 7.45s\n",
      "130:\tlearn: 1864.5220052\ttotal: 33.6s\tremaining: 4.87s\n",
      "140:\tlearn: 1853.9316938\ttotal: 36.1s\tremaining: 2.31s\n",
      "149:\tlearn: 1846.2086719\ttotal: 38.4s\tremaining: 0us\n",
      "CPU times: user 38.9 s, sys: 102 ms, total: 39 s\n",
      "Wall time: 39.4 s\n",
      "RMSE del modelo en datos de entrenamiento: 1841.2396969291751\n",
      "\n",
      "CPU times: user 148 ms, sys: 3.9 ms, total: 152 ms\n",
      "Wall time: 152 ms\n",
      "RECM del modelo de bosque aleatorio en CatBoost: 1839.6543485981704\n"
     ]
    }
   ],
   "source": [
    "\n",
    "cat_features = [\n",
    "    'vehicletype',\n",
    "    'gearbox',\n",
    "    'model',\n",
    "    'fueltype',\n",
    "    'brand',\n",
    "    'notrepaired',\n",
    "]\n",
    "\n",
    "model_cat = CatBoostRegressor(iterations=150, learning_rate=0.1, depth=6, random_seed=12345)\n",
    "%time model_cat.fit(features_train, target_train, cat_features=cat_features, early_stopping_rounds=10, verbose=10)\n",
    "predictions_train_cat = model_cat.predict(features_train)\n",
    "result_train_cat = mean_squared_error(target_train, predictions_train_cat)**0.5\n",
    "print(\"RMSE del modelo en datos de entrenamiento:\", result_train_cat)\n",
    "print()\n",
    "\n",
    "%time predictions_valid_cat = model_cat.predict(features_valid)\n",
    "result_cat = mean_squared_error(target_valid, predictions_valid_cat) ** 0.5\n",
    "\n",
    "print(\"RECM del modelo de bosque aleatorio en CatBoost:\", result_cat)\n"
   ]
  },
  {
   "cell_type": "markdown",
   "metadata": {},
   "source": [
    "**SEGUNDA CONFIGURACION**"
   ]
  },
  {
   "cell_type": "code",
   "execution_count": 21,
   "metadata": {},
   "outputs": [
    {
     "name": "stdout",
     "output_type": "stream",
     "text": [
      "0:\tlearn: 4211.7761274\ttotal: 971ms\tremaining: 3m 13s\n",
      "10:\tlearn: 2626.2136888\ttotal: 9.54s\tremaining: 2m 43s\n",
      "20:\tlearn: 2158.7679397\ttotal: 17.6s\tremaining: 2m 29s\n",
      "30:\tlearn: 2010.6021306\ttotal: 26s\tremaining: 2m 21s\n",
      "40:\tlearn: 1946.6493996\ttotal: 34.1s\tremaining: 2m 12s\n",
      "50:\tlearn: 1911.9445137\ttotal: 41.9s\tremaining: 2m 2s\n",
      "60:\tlearn: 1885.4786504\ttotal: 49.9s\tremaining: 1m 53s\n",
      "70:\tlearn: 1859.9392589\ttotal: 57.7s\tremaining: 1m 44s\n",
      "80:\tlearn: 1840.2608897\ttotal: 1m 5s\tremaining: 1m 36s\n",
      "90:\tlearn: 1823.9619596\ttotal: 1m 13s\tremaining: 1m 28s\n",
      "100:\tlearn: 1810.0381867\ttotal: 1m 22s\tremaining: 1m 20s\n",
      "110:\tlearn: 1796.4428818\ttotal: 1m 30s\tremaining: 1m 12s\n",
      "120:\tlearn: 1784.8684944\ttotal: 1m 38s\tremaining: 1m 4s\n",
      "130:\tlearn: 1774.6507549\ttotal: 1m 46s\tremaining: 56.1s\n",
      "140:\tlearn: 1765.5869885\ttotal: 1m 55s\tremaining: 48.2s\n",
      "150:\tlearn: 1756.1508645\ttotal: 2m 3s\tremaining: 39.9s\n",
      "160:\tlearn: 1746.9337469\ttotal: 2m 11s\tremaining: 31.7s\n",
      "170:\tlearn: 1738.6900690\ttotal: 2m 19s\tremaining: 23.7s\n",
      "180:\tlearn: 1729.9388356\ttotal: 2m 27s\tremaining: 15.5s\n",
      "190:\tlearn: 1723.3889517\ttotal: 2m 35s\tremaining: 7.34s\n",
      "199:\tlearn: 1718.3174000\ttotal: 2m 43s\tremaining: 0us\n",
      "CPU times: user 2min 43s, sys: 386 ms, total: 2min 44s\n",
      "Wall time: 2min 44s\n",
      "RMSE del modelo en datos de entrenamiento: 1841.2396969291751\n",
      "\n",
      "CPU times: user 350 ms, sys: 0 ns, total: 350 ms\n",
      "Wall time: 353 ms\n",
      "RECM del modelo de bosque aleatorio en CatBoost: 1742.850741262824\n"
     ]
    }
   ],
   "source": [
    "\n",
    "model_cat = CatBoostRegressor(iterations=200, learning_rate=0.1, depth=8, random_seed=12345)\n",
    "%time model_cat.fit(features_train, target_train, cat_features=cat_features, early_stopping_rounds=10, verbose=10)\n",
    "predictions_train_tree_cat = model_cat.predict(features_train)\n",
    "result_train_cat = mean_squared_error(target_train, predictions_train_cat)**0.5\n",
    "print(\"RMSE del modelo en datos de entrenamiento:\", result_train_cat)\n",
    "print()\n",
    "\n",
    "%time predictions_valid_cat = model_cat.predict(features_valid)\n",
    "result_cat = mean_squared_error(target_valid, predictions_valid_cat) ** 0.5\n",
    "\n",
    "print(\"RECM del modelo de bosque aleatorio en CatBoost:\", result_cat)\n"
   ]
  },
  {
   "cell_type": "markdown",
   "metadata": {},
   "source": [
    "### Entrenamiento con Potenciación del gradiente (gradient boosting) de la libreria XGBoost en un bosque \n",
    "\n",
    "**PRIMERA CONFIGURACION**\n"
   ]
  },
  {
   "cell_type": "code",
   "execution_count": 22,
   "metadata": {},
   "outputs": [
    {
     "name": "stdout",
     "output_type": "stream",
     "text": [
      "CPU times: user 3min 26s, sys: 792 ms, total: 3min 27s\n",
      "Wall time: 3min 27s\n",
      "RMSE del modelo en datos de entrenamiento: 1897.4633341479664\n",
      "\n",
      "CPU times: user 1.05 s, sys: 44 ms, total: 1.09 s\n",
      "Wall time: 1.05 s\n",
      "RECM del modelo XGBoost: 1898.958775467307\n"
     ]
    }
   ],
   "source": [
    "model_xgb = XGBRegressor(n_estimators=50, learning_rate=0.3, max_depth=4, subsample=0.8, random_state=12345)\n",
    "%time model_xgb.fit(features_train_ohe, target_train_ohe)\n",
    "predictions_train_xgb = model_xgb.predict(features_train_ohe)\n",
    "result_train_xgb = mean_squared_error(target_train_ohe, predictions_train_xgb)**0.5\n",
    "print(\"RMSE del modelo en datos de entrenamiento:\", result_train_xgb)\n",
    "print()\n",
    "\n",
    "%time predictions_valid_xgb = model_xgb.predict(features_valid_ohe)\n",
    "result_xgb = mean_squared_error(target_valid_ohe, predictions_valid_xgb)**0.5\n",
    "print(\"RECM del modelo XGBoost:\", result_xgb)\n"
   ]
  },
  {
   "cell_type": "markdown",
   "metadata": {},
   "source": [
    "**SEGUNDA CONFIGURACION**"
   ]
  },
  {
   "cell_type": "code",
   "execution_count": 23,
   "metadata": {},
   "outputs": [
    {
     "name": "stdout",
     "output_type": "stream",
     "text": [
      "CPU times: user 5min 8s, sys: 1 s, total: 5min 9s\n",
      "Wall time: 5min 9s\n",
      "RMSE del modelo en datos de entrenamiento: 1803.9751961905592\n",
      "\n",
      "CPU times: user 1.12 s, sys: 31.9 ms, total: 1.15 s\n",
      "Wall time: 1.16 s\n",
      "RECM del modelo XGBoost: 1829.7032580209445\n"
     ]
    }
   ],
   "source": [
    "\n",
    "model_xgb = XGBRegressor(n_estimators=60, learning_rate=0.3, max_depth=5, subsample=0.8, random_state=12345)\n",
    "%time model_xgb.fit(features_train_ohe, target_train_ohe)\n",
    "predictions_train_xgb = model_xgb.predict(features_train_ohe)\n",
    "result_train_xgb = mean_squared_error(target_train_ohe, predictions_train_xgb)**0.5\n",
    "print(\"RMSE del modelo en datos de entrenamiento:\", result_train_xgb)\n",
    "print()\n",
    "\n",
    "%time predictions_valid_xgb = model_xgb.predict(features_valid_ohe)\n",
    "result_xgb = mean_squared_error(target_valid_ohe, predictions_valid_xgb)**0.5\n",
    "print(\"RECM del modelo XGBoost:\", result_xgb)"
   ]
  },
  {
   "cell_type": "markdown",
   "metadata": {},
   "source": [
    "## Análisis de los modelos"
   ]
  },
  {
   "cell_type": "markdown",
   "metadata": {},
   "source": [
    "\n",
    "| Hiperparámetros| Modelo|Librería|Tiempo en entrenamiento (s)|Tiempo en predicción (s)|RMSE en entrenamiento|RMSE en predicción|\n",
    "|:---------------|:-----:|:------:|:---------------------:|:------------------:|:-------------------:|:----------------:|\n",
    "| Configuración general |Regresión lineal|scikit-learn| 21.8  | 0.290  | 2760.07 |2774.29 |\n",
    "| 1er Configuración|Bosque aleatorio |lightGBM| 14.6 | 1.23  | 2349 |2341.84|\n",
    "| 2da Configuración|Bosque aleatorio |lightGBM| 18.3 | 1.57 | 2368.90 |2359.75|\n",
    "| 1er Configuración|Árbol de decisiones |lightGBM| 72| 1.11  | 1790.61 |1800.06|\n",
    "| 2da Configuración|Árbol de decisiones |lightGBM| 111 | 1.28  | 1751.41 |1767.94|\n",
    "| 1er Configuración|Bosque aleatorio |CATboost| 39.4| 0.152 | 1841.23 |1839.65|\n",
    "| 2da Configuración|Bosque aleatorio |CATboost| 164 | 0.353  | 1841.23 |1742.85|\n",
    "| 1er Configuración|Gradient boosting tree |XGBoost| 207 | 1.05 | 1897.46 |1898.95|\n",
    "| 2da Configuración|Gradient boosting tree |XGBoost| 309 | 1.16 | 1803.97 |1829.70|"
   ]
  },
  {
   "cell_type": "markdown",
   "metadata": {},
   "source": [
    "Basándonos en la calidad de los modelos seleccionados, encontramos que el mejor desempeño proviene del bosque aleatorio de CatBoost, con un RMSE de 1742.85 y tiempos de predicción en milisegundos. Aunque LightGBM también presentó buenos resultados, el bosque aleatorio de CatBoost superó ligeramente en calidad.\n",
    "\n",
    "El equilibrio entre tiempo y calidad ofrecido por el bosque aleatorio de CatBoost lo convierte en una excelente opción. Aunque el árbol de decisiones de LightGBM también ofreció buenos resultados, su rendimiento fue ligeramente inferior en comparación con el bosque aleatorio de CatBoost y la velocidad de entrenamiento menor. \n",
    "\n",
    "Dado que las predicciones del modelo difieren del valor real en alrededor de 1742 unidades de la variable objetivo, en este caso, un RMSE de 1742 indica un buen rendimiento del modelo."
   ]
  },
  {
   "cell_type": "markdown",
   "metadata": {},
   "source": [
    "<div class=\"alert alert-block alert-success\">\n",
    "    \n",
    "# Comentarios generales\n",
    "<b>Comentario del revisor</b> <a class=\"tocSkip\"></a>\n",
    "    \n",
    "Has aprobado un nuevo proyecto. ¡Felicitaciones!\n",
    "</div>"
   ]
  }
 ],
 "metadata": {
  "kernelspec": {
   "display_name": "Python 3 (ipykernel)",
   "language": "python",
   "name": "python3"
  },
  "language_info": {
   "codemirror_mode": {
    "name": "ipython",
    "version": 3
   },
   "file_extension": ".py",
   "mimetype": "text/x-python",
   "name": "python",
   "nbconvert_exporter": "python",
   "pygments_lexer": "ipython3",
   "version": "3.9.19"
  },
  "toc": {
   "base_numbering": 1,
   "nav_menu": {},
   "number_sections": true,
   "sideBar": true,
   "skip_h1_title": true,
   "title_cell": "Table of Contents",
   "title_sidebar": "Contents",
   "toc_cell": false,
   "toc_position": {},
   "toc_section_display": true,
   "toc_window_display": false
  }
 },
 "nbformat": 4,
 "nbformat_minor": 2
}
